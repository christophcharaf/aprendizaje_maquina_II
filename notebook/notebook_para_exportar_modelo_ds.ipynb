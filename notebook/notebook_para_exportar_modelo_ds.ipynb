{
 "cells": [
  {
   "cell_type": "markdown",
   "id": "2f113ca0",
   "metadata": {},
   "source": [
    "# Stroke Prediction Dataset"
   ]
  },
  {
   "cell_type": "markdown",
   "id": "b52f4359",
   "metadata": {},
   "source": [
    "### Integrantes\n",
    "\n",
    "• Christopher Sebastian, Charaf Herrera \n",
    "\n",
    "• Cecilia Azul, Villanueva\n",
    "\n",
    "• Niels Pacheco"
   ]
  },
  {
   "cell_type": "markdown",
   "id": "4a0a9ad2",
   "metadata": {},
   "source": [
    "[Link del dataset](https://www.kaggle.com/datasets/fedesoriano/stroke-prediction-dataset)"
   ]
  },
  {
   "cell_type": "markdown",
   "id": "cc8ecebf",
   "metadata": {},
   "source": [
    "Los accidentes cerebrovasculares son una preocupación significativa de salud a nivel mundial, a menudo conllevan consecuencias graves, como discapacidades a largo plazo o la muerte. Predecir la probabilidad de un accidente cerebrovascular puede desempeñar un papel crucial en la intervención y el tratamiento temprano, lo que potencialmente podría salvar vidas y mejorar los resultados para los pacientes.\n",
    "\n",
    "En este notebook, analizaremos un conjunto de datos que contiene diversas características de los pacientes para predecir la ocurrencia de accidentes cerebrovasculares. Exploraremos diferentes modelos de aprendizaje automático, evaluaremos su rendimiento y determinaremos el enfoque más efectivo para la predicción de accidentes cerebrovasculares."
   ]
  },
  {
   "cell_type": "code",
   "execution_count": 2,
   "id": "a747d883",
   "metadata": {
    "_cell_guid": "b1076dfc-b9ad-4769-8c92-a6c4dae69d19",
    "_uuid": "8f2839f25d086af736a60e9eeb907d3b93b6e0e5",
    "execution": {
     "iopub.execute_input": "2024-04-10T14:51:44.836796Z",
     "iopub.status.busy": "2024-04-10T14:51:44.836210Z",
     "iopub.status.idle": "2024-04-10T14:51:48.200809Z",
     "shell.execute_reply": "2024-04-10T14:51:48.199355Z"
    },
    "papermill": {
     "duration": 3.382627,
     "end_time": "2024-04-10T14:51:48.204114",
     "exception": false,
     "start_time": "2024-04-10T14:51:44.821487",
     "status": "completed"
    },
    "tags": []
   },
   "outputs": [],
   "source": [
    "#IMPORTS\n",
    "import pandas as pd \n",
    "import numpy as np\n",
    "import matplotlib.pyplot as plt\n",
    "import warnings\n",
    "warnings.filterwarnings(\"ignore\")\n",
    "#import seaborn as sns\n",
    "from sklearn.model_selection import train_test_split\n",
    "from sklearn.preprocessing import StandardScaler\n",
    "#import lazypredict\n",
    "#from lazypredict.Supervised import LazyClassifier\n",
    "from sklearn.ensemble import RandomForestClassifier\n",
    "from sklearn.metrics import confusion_matrix\n",
    "from sklearn.metrics import accuracy_score, confusion_matrix, precision_score, recall_score, ConfusionMatrixDisplay, f1_score, classification_report,mean_squared_error"
   ]
  },
  {
   "cell_type": "markdown",
   "id": "9320dbe1",
   "metadata": {},
   "source": [
    "---"
   ]
  },
  {
   "cell_type": "markdown",
   "id": "55c09fdb",
   "metadata": {},
   "source": [
    "## Análisis Exploratorio de datos"
   ]
  },
  {
   "cell_type": "markdown",
   "id": "990b29ce",
   "metadata": {},
   "source": [
    "Cargamos el dataset"
   ]
  },
  {
   "cell_type": "code",
   "execution_count": 3,
   "id": "e0c9b4e6",
   "metadata": {
    "execution": {
     "iopub.execute_input": "2024-04-10T14:51:48.232689Z",
     "iopub.status.busy": "2024-04-10T14:51:48.231505Z",
     "iopub.status.idle": "2024-04-10T14:51:48.304224Z",
     "shell.execute_reply": "2024-04-10T14:51:48.303142Z"
    },
    "papermill": {
     "duration": 0.090094,
     "end_time": "2024-04-10T14:51:48.306778",
     "exception": false,
     "start_time": "2024-04-10T14:51:48.216684",
     "status": "completed"
    },
    "tags": []
   },
   "outputs": [
    {
     "data": {
      "text/html": [
       "<div>\n",
       "<style scoped>\n",
       "    .dataframe tbody tr th:only-of-type {\n",
       "        vertical-align: middle;\n",
       "    }\n",
       "\n",
       "    .dataframe tbody tr th {\n",
       "        vertical-align: top;\n",
       "    }\n",
       "\n",
       "    .dataframe thead th {\n",
       "        text-align: right;\n",
       "    }\n",
       "</style>\n",
       "<table border=\"1\" class=\"dataframe\">\n",
       "  <thead>\n",
       "    <tr style=\"text-align: right;\">\n",
       "      <th></th>\n",
       "      <th>id</th>\n",
       "      <th>gender</th>\n",
       "      <th>age</th>\n",
       "      <th>hypertension</th>\n",
       "      <th>heart_disease</th>\n",
       "      <th>ever_married</th>\n",
       "      <th>work_type</th>\n",
       "      <th>Residence_type</th>\n",
       "      <th>avg_glucose_level</th>\n",
       "      <th>bmi</th>\n",
       "      <th>smoking_status</th>\n",
       "      <th>stroke</th>\n",
       "    </tr>\n",
       "  </thead>\n",
       "  <tbody>\n",
       "    <tr>\n",
       "      <th>0</th>\n",
       "      <td>9046</td>\n",
       "      <td>Male</td>\n",
       "      <td>67.0</td>\n",
       "      <td>0</td>\n",
       "      <td>1</td>\n",
       "      <td>Yes</td>\n",
       "      <td>Private</td>\n",
       "      <td>Urban</td>\n",
       "      <td>228.69</td>\n",
       "      <td>36.6</td>\n",
       "      <td>formerly smoked</td>\n",
       "      <td>1</td>\n",
       "    </tr>\n",
       "    <tr>\n",
       "      <th>1</th>\n",
       "      <td>51676</td>\n",
       "      <td>Female</td>\n",
       "      <td>61.0</td>\n",
       "      <td>0</td>\n",
       "      <td>0</td>\n",
       "      <td>Yes</td>\n",
       "      <td>Self-employed</td>\n",
       "      <td>Rural</td>\n",
       "      <td>202.21</td>\n",
       "      <td>NaN</td>\n",
       "      <td>never smoked</td>\n",
       "      <td>1</td>\n",
       "    </tr>\n",
       "    <tr>\n",
       "      <th>2</th>\n",
       "      <td>31112</td>\n",
       "      <td>Male</td>\n",
       "      <td>80.0</td>\n",
       "      <td>0</td>\n",
       "      <td>1</td>\n",
       "      <td>Yes</td>\n",
       "      <td>Private</td>\n",
       "      <td>Rural</td>\n",
       "      <td>105.92</td>\n",
       "      <td>32.5</td>\n",
       "      <td>never smoked</td>\n",
       "      <td>1</td>\n",
       "    </tr>\n",
       "    <tr>\n",
       "      <th>3</th>\n",
       "      <td>60182</td>\n",
       "      <td>Female</td>\n",
       "      <td>49.0</td>\n",
       "      <td>0</td>\n",
       "      <td>0</td>\n",
       "      <td>Yes</td>\n",
       "      <td>Private</td>\n",
       "      <td>Urban</td>\n",
       "      <td>171.23</td>\n",
       "      <td>34.4</td>\n",
       "      <td>smokes</td>\n",
       "      <td>1</td>\n",
       "    </tr>\n",
       "    <tr>\n",
       "      <th>4</th>\n",
       "      <td>1665</td>\n",
       "      <td>Female</td>\n",
       "      <td>79.0</td>\n",
       "      <td>1</td>\n",
       "      <td>0</td>\n",
       "      <td>Yes</td>\n",
       "      <td>Self-employed</td>\n",
       "      <td>Rural</td>\n",
       "      <td>174.12</td>\n",
       "      <td>24.0</td>\n",
       "      <td>never smoked</td>\n",
       "      <td>1</td>\n",
       "    </tr>\n",
       "  </tbody>\n",
       "</table>\n",
       "</div>"
      ],
      "text/plain": [
       "      id  gender   age  hypertension  heart_disease ever_married  \\\n",
       "0   9046    Male  67.0             0              1          Yes   \n",
       "1  51676  Female  61.0             0              0          Yes   \n",
       "2  31112    Male  80.0             0              1          Yes   \n",
       "3  60182  Female  49.0             0              0          Yes   \n",
       "4   1665  Female  79.0             1              0          Yes   \n",
       "\n",
       "       work_type Residence_type  avg_glucose_level   bmi   smoking_status  \\\n",
       "0        Private          Urban             228.69  36.6  formerly smoked   \n",
       "1  Self-employed          Rural             202.21   NaN     never smoked   \n",
       "2        Private          Rural             105.92  32.5     never smoked   \n",
       "3        Private          Urban             171.23  34.4           smokes   \n",
       "4  Self-employed          Rural             174.12  24.0     never smoked   \n",
       "\n",
       "   stroke  \n",
       "0       1  \n",
       "1       1  \n",
       "2       1  \n",
       "3       1  \n",
       "4       1  "
      ]
     },
     "execution_count": 3,
     "metadata": {},
     "output_type": "execute_result"
    }
   ],
   "source": [
    "df = pd.read_csv(\".\\healthcare-dataset-stroke-data.csv\")\n",
    "df.head()"
   ]
  },
  {
   "cell_type": "markdown",
   "id": "34ba819b",
   "metadata": {},
   "source": [
    "---"
   ]
  },
  {
   "cell_type": "markdown",
   "id": "aa32d54a",
   "metadata": {},
   "source": [
    "## Valores nulos y outliers"
   ]
  },
  {
   "cell_type": "markdown",
   "id": "7d4b6f5b",
   "metadata": {},
   "source": [
    "Revisamos el numero exacto de nulos en la columna bmi"
   ]
  },
  {
   "cell_type": "markdown",
   "id": "a70e9363",
   "metadata": {},
   "source": [
    "Del analisis anterior, no es beneficioso reemplazar los valores nulos de bmi por la media debido a los outliers, asi que reemplazaremos por la mediana"
   ]
  },
  {
   "cell_type": "code",
   "execution_count": 4,
   "id": "be01a820",
   "metadata": {
    "execution": {
     "iopub.execute_input": "2024-04-10T14:51:48.419388Z",
     "iopub.status.busy": "2024-04-10T14:51:48.418774Z",
     "iopub.status.idle": "2024-04-10T14:51:48.428531Z",
     "shell.execute_reply": "2024-04-10T14:51:48.427144Z"
    },
    "papermill": {
     "duration": 0.027094,
     "end_time": "2024-04-10T14:51:48.431486",
     "exception": false,
     "start_time": "2024-04-10T14:51:48.404392",
     "status": "completed"
    },
    "tags": []
   },
   "outputs": [],
   "source": [
    "df['bmi'].fillna(df['bmi'].median(), inplace=True)"
   ]
  },
  {
   "cell_type": "markdown",
   "id": "2a5c60ba",
   "metadata": {},
   "source": [
    "Validamos el cambio"
   ]
  },
  {
   "cell_type": "markdown",
   "id": "17b37058",
   "metadata": {},
   "source": [
    "Dropeamos ID ya que no es relevante"
   ]
  },
  {
   "cell_type": "code",
   "execution_count": 5,
   "id": "a5052ae1",
   "metadata": {
    "execution": {
     "iopub.execute_input": "2024-04-10T14:51:48.461009Z",
     "iopub.status.busy": "2024-04-10T14:51:48.460539Z",
     "iopub.status.idle": "2024-04-10T14:51:48.486797Z",
     "shell.execute_reply": "2024-04-10T14:51:48.485527Z"
    },
    "papermill": {
     "duration": 0.044644,
     "end_time": "2024-04-10T14:51:48.489531",
     "exception": false,
     "start_time": "2024-04-10T14:51:48.444887",
     "status": "completed"
    },
    "tags": []
   },
   "outputs": [],
   "source": [
    "df = df.drop(\"id\",axis=1)"
   ]
  },
  {
   "cell_type": "markdown",
   "id": "452bd63f",
   "metadata": {},
   "source": [
    "Usamos binary encoding para ever_married"
   ]
  },
  {
   "cell_type": "code",
   "execution_count": 6,
   "id": "e01168c3",
   "metadata": {},
   "outputs": [
    {
     "data": {
      "text/plain": [
       "ever_married\n",
       "Yes    3353\n",
       "No     1757\n",
       "Name: count, dtype: int64"
      ]
     },
     "execution_count": 6,
     "metadata": {},
     "output_type": "execute_result"
    }
   ],
   "source": [
    "df['ever_married'].value_counts()"
   ]
  },
  {
   "cell_type": "code",
   "execution_count": 7,
   "id": "a3686c06",
   "metadata": {},
   "outputs": [],
   "source": [
    "df['ever_married'] = df['ever_married'].map({'Yes':1 ,'No':0})"
   ]
  },
  {
   "cell_type": "code",
   "execution_count": 8,
   "id": "ba4fecee",
   "metadata": {},
   "outputs": [
    {
     "data": {
      "text/plain": [
       "ever_married\n",
       "1    3353\n",
       "0    1757\n",
       "Name: count, dtype: int64"
      ]
     },
     "execution_count": 8,
     "metadata": {},
     "output_type": "execute_result"
    }
   ],
   "source": [
    "df['ever_married'].value_counts()"
   ]
  },
  {
   "cell_type": "markdown",
   "id": "4fc1b74b",
   "metadata": {},
   "source": [
    "Gender tiene 1 valor diferente que es Other, por lo que lo eliminaremos"
   ]
  },
  {
   "cell_type": "code",
   "execution_count": 9,
   "id": "94f91f0e",
   "metadata": {
    "execution": {
     "iopub.execute_input": "2024-04-10T14:51:48.560840Z",
     "iopub.status.busy": "2024-04-10T14:51:48.560374Z",
     "iopub.status.idle": "2024-04-10T14:51:48.574248Z",
     "shell.execute_reply": "2024-04-10T14:51:48.572656Z"
    },
    "papermill": {
     "duration": 0.031915,
     "end_time": "2024-04-10T14:51:48.577571",
     "exception": false,
     "start_time": "2024-04-10T14:51:48.545656",
     "status": "completed"
    },
    "tags": []
   },
   "outputs": [
    {
     "data": {
      "text/plain": [
       "gender\n",
       "Female    2994\n",
       "Male      2115\n",
       "Other        1\n",
       "Name: count, dtype: int64"
      ]
     },
     "execution_count": 9,
     "metadata": {},
     "output_type": "execute_result"
    }
   ],
   "source": [
    "df['gender'].value_counts()"
   ]
  },
  {
   "cell_type": "code",
   "execution_count": 10,
   "id": "15fa3d7c",
   "metadata": {
    "execution": {
     "iopub.execute_input": "2024-04-10T14:51:48.607770Z",
     "iopub.status.busy": "2024-04-10T14:51:48.606678Z",
     "iopub.status.idle": "2024-04-10T14:51:48.621630Z",
     "shell.execute_reply": "2024-04-10T14:51:48.620165Z"
    },
    "papermill": {
     "duration": 0.033278,
     "end_time": "2024-04-10T14:51:48.624325",
     "exception": false,
     "start_time": "2024-04-10T14:51:48.591047",
     "status": "completed"
    },
    "tags": []
   },
   "outputs": [],
   "source": [
    "df = df[df['gender'] != 'Other']"
   ]
  },
  {
   "cell_type": "code",
   "execution_count": 11,
   "id": "12dcddb1",
   "metadata": {},
   "outputs": [
    {
     "data": {
      "text/plain": [
       "gender\n",
       "Female    2994\n",
       "Male      2115\n",
       "Name: count, dtype: int64"
      ]
     },
     "execution_count": 11,
     "metadata": {},
     "output_type": "execute_result"
    }
   ],
   "source": [
    "df['gender'].value_counts()"
   ]
  },
  {
   "cell_type": "markdown",
   "id": "c41ba55b",
   "metadata": {},
   "source": [
    "Ahora solo tenemos 2 valores en Gender"
   ]
  },
  {
   "cell_type": "markdown",
   "id": "ed80d545",
   "metadata": {},
   "source": [
    "---"
   ]
  },
  {
   "cell_type": "markdown",
   "id": "f42a4e70",
   "metadata": {},
   "source": [
    "## Feature engineering"
   ]
  },
  {
   "cell_type": "markdown",
   "id": "56026094",
   "metadata": {},
   "source": [
    "Mas del 95% de los datos son de la clase 0, por lo que es un dataset desbalanceado, lo que puede afectar el rendimiento del modelo"
   ]
  },
  {
   "cell_type": "markdown",
   "id": "84eb387f",
   "metadata": {},
   "source": [
    "### One-hot encoding"
   ]
  },
  {
   "cell_type": "code",
   "execution_count": 12,
   "id": "d6a028ca",
   "metadata": {
    "execution": {
     "iopub.execute_input": "2024-04-10T14:51:51.671845Z",
     "iopub.status.busy": "2024-04-10T14:51:51.671176Z",
     "iopub.status.idle": "2024-04-10T14:51:51.701139Z",
     "shell.execute_reply": "2024-04-10T14:51:51.699937Z"
    },
    "papermill": {
     "duration": 0.053997,
     "end_time": "2024-04-10T14:51:51.703915",
     "exception": false,
     "start_time": "2024-04-10T14:51:51.649918",
     "status": "completed"
    },
    "tags": []
   },
   "outputs": [
    {
     "data": {
      "text/html": [
       "<div>\n",
       "<style scoped>\n",
       "    .dataframe tbody tr th:only-of-type {\n",
       "        vertical-align: middle;\n",
       "    }\n",
       "\n",
       "    .dataframe tbody tr th {\n",
       "        vertical-align: top;\n",
       "    }\n",
       "\n",
       "    .dataframe thead th {\n",
       "        text-align: right;\n",
       "    }\n",
       "</style>\n",
       "<table border=\"1\" class=\"dataframe\">\n",
       "  <thead>\n",
       "    <tr style=\"text-align: right;\">\n",
       "      <th></th>\n",
       "      <th>age</th>\n",
       "      <th>hypertension</th>\n",
       "      <th>heart_disease</th>\n",
       "      <th>ever_married</th>\n",
       "      <th>avg_glucose_level</th>\n",
       "      <th>bmi</th>\n",
       "      <th>stroke</th>\n",
       "      <th>gender_Female</th>\n",
       "      <th>gender_Male</th>\n",
       "      <th>work_type_Govt_job</th>\n",
       "      <th>work_type_Never_worked</th>\n",
       "      <th>work_type_Private</th>\n",
       "      <th>work_type_Self-employed</th>\n",
       "      <th>work_type_children</th>\n",
       "      <th>Residence_type_Rural</th>\n",
       "      <th>Residence_type_Urban</th>\n",
       "      <th>smoking_status_Unknown</th>\n",
       "      <th>smoking_status_formerly smoked</th>\n",
       "      <th>smoking_status_never smoked</th>\n",
       "      <th>smoking_status_smokes</th>\n",
       "    </tr>\n",
       "  </thead>\n",
       "  <tbody>\n",
       "    <tr>\n",
       "      <th>0</th>\n",
       "      <td>67</td>\n",
       "      <td>0</td>\n",
       "      <td>1</td>\n",
       "      <td>1</td>\n",
       "      <td>228</td>\n",
       "      <td>36</td>\n",
       "      <td>1</td>\n",
       "      <td>0</td>\n",
       "      <td>1</td>\n",
       "      <td>0</td>\n",
       "      <td>0</td>\n",
       "      <td>1</td>\n",
       "      <td>0</td>\n",
       "      <td>0</td>\n",
       "      <td>0</td>\n",
       "      <td>1</td>\n",
       "      <td>0</td>\n",
       "      <td>1</td>\n",
       "      <td>0</td>\n",
       "      <td>0</td>\n",
       "    </tr>\n",
       "    <tr>\n",
       "      <th>1</th>\n",
       "      <td>61</td>\n",
       "      <td>0</td>\n",
       "      <td>0</td>\n",
       "      <td>1</td>\n",
       "      <td>202</td>\n",
       "      <td>28</td>\n",
       "      <td>1</td>\n",
       "      <td>1</td>\n",
       "      <td>0</td>\n",
       "      <td>0</td>\n",
       "      <td>0</td>\n",
       "      <td>0</td>\n",
       "      <td>1</td>\n",
       "      <td>0</td>\n",
       "      <td>1</td>\n",
       "      <td>0</td>\n",
       "      <td>0</td>\n",
       "      <td>0</td>\n",
       "      <td>1</td>\n",
       "      <td>0</td>\n",
       "    </tr>\n",
       "    <tr>\n",
       "      <th>2</th>\n",
       "      <td>80</td>\n",
       "      <td>0</td>\n",
       "      <td>1</td>\n",
       "      <td>1</td>\n",
       "      <td>105</td>\n",
       "      <td>32</td>\n",
       "      <td>1</td>\n",
       "      <td>0</td>\n",
       "      <td>1</td>\n",
       "      <td>0</td>\n",
       "      <td>0</td>\n",
       "      <td>1</td>\n",
       "      <td>0</td>\n",
       "      <td>0</td>\n",
       "      <td>1</td>\n",
       "      <td>0</td>\n",
       "      <td>0</td>\n",
       "      <td>0</td>\n",
       "      <td>1</td>\n",
       "      <td>0</td>\n",
       "    </tr>\n",
       "    <tr>\n",
       "      <th>3</th>\n",
       "      <td>49</td>\n",
       "      <td>0</td>\n",
       "      <td>0</td>\n",
       "      <td>1</td>\n",
       "      <td>171</td>\n",
       "      <td>34</td>\n",
       "      <td>1</td>\n",
       "      <td>1</td>\n",
       "      <td>0</td>\n",
       "      <td>0</td>\n",
       "      <td>0</td>\n",
       "      <td>1</td>\n",
       "      <td>0</td>\n",
       "      <td>0</td>\n",
       "      <td>0</td>\n",
       "      <td>1</td>\n",
       "      <td>0</td>\n",
       "      <td>0</td>\n",
       "      <td>0</td>\n",
       "      <td>1</td>\n",
       "    </tr>\n",
       "    <tr>\n",
       "      <th>4</th>\n",
       "      <td>79</td>\n",
       "      <td>1</td>\n",
       "      <td>0</td>\n",
       "      <td>1</td>\n",
       "      <td>174</td>\n",
       "      <td>24</td>\n",
       "      <td>1</td>\n",
       "      <td>1</td>\n",
       "      <td>0</td>\n",
       "      <td>0</td>\n",
       "      <td>0</td>\n",
       "      <td>0</td>\n",
       "      <td>1</td>\n",
       "      <td>0</td>\n",
       "      <td>1</td>\n",
       "      <td>0</td>\n",
       "      <td>0</td>\n",
       "      <td>0</td>\n",
       "      <td>1</td>\n",
       "      <td>0</td>\n",
       "    </tr>\n",
       "  </tbody>\n",
       "</table>\n",
       "</div>"
      ],
      "text/plain": [
       "   age  hypertension  heart_disease  ever_married  avg_glucose_level  bmi  \\\n",
       "0   67             0              1             1                228   36   \n",
       "1   61             0              0             1                202   28   \n",
       "2   80             0              1             1                105   32   \n",
       "3   49             0              0             1                171   34   \n",
       "4   79             1              0             1                174   24   \n",
       "\n",
       "   stroke  gender_Female  gender_Male  work_type_Govt_job  \\\n",
       "0       1              0            1                   0   \n",
       "1       1              1            0                   0   \n",
       "2       1              0            1                   0   \n",
       "3       1              1            0                   0   \n",
       "4       1              1            0                   0   \n",
       "\n",
       "   work_type_Never_worked  work_type_Private  work_type_Self-employed  \\\n",
       "0                       0                  1                        0   \n",
       "1                       0                  0                        1   \n",
       "2                       0                  1                        0   \n",
       "3                       0                  1                        0   \n",
       "4                       0                  0                        1   \n",
       "\n",
       "   work_type_children  Residence_type_Rural  Residence_type_Urban  \\\n",
       "0                   0                     0                     1   \n",
       "1                   0                     1                     0   \n",
       "2                   0                     1                     0   \n",
       "3                   0                     0                     1   \n",
       "4                   0                     1                     0   \n",
       "\n",
       "   smoking_status_Unknown  smoking_status_formerly smoked  \\\n",
       "0                       0                               1   \n",
       "1                       0                               0   \n",
       "2                       0                               0   \n",
       "3                       0                               0   \n",
       "4                       0                               0   \n",
       "\n",
       "   smoking_status_never smoked  smoking_status_smokes  \n",
       "0                            0                      0  \n",
       "1                            1                      0  \n",
       "2                            1                      0  \n",
       "3                            0                      1  \n",
       "4                            1                      0  "
      ]
     },
     "execution_count": 12,
     "metadata": {},
     "output_type": "execute_result"
    }
   ],
   "source": [
    "df = pd.get_dummies(df).astype(int)\n",
    "df.head()"
   ]
  },
  {
   "cell_type": "markdown",
   "id": "d4046ddb",
   "metadata": {},
   "source": [
    "### Upsampling"
   ]
  },
  {
   "cell_type": "code",
   "execution_count": 13,
   "id": "aa0bd868",
   "metadata": {},
   "outputs": [],
   "source": [
    "# Utilizaremos SMOTE (https://imbalanced-learn.org/stable/references/generated/imblearn.over_sampling.SMOTE.html)\n",
    "# SMOTE significa Técnica de Sobremuestreo de Minorías Sintéticas.\n",
    "# Es una técnica utilizada en aprendizaje automático para abordar conjuntos de datos desequilibrados.\n",
    "# Identificación del Desequilibrio: comenzamos reconociendo que el conjunto de datos tiene una clase minoritaria, como casos de enfermedades raras en un conjunto de datos médicos, o en este caso la tasa de ACVs.\n",
    "from imblearn.over_sampling import SMOTE"
   ]
  },
  {
   "cell_type": "code",
   "execution_count": 14,
   "id": "078ca2de",
   "metadata": {
    "execution": {
     "iopub.execute_input": "2024-04-10T14:51:54.351842Z",
     "iopub.status.busy": "2024-04-10T14:51:54.351318Z",
     "iopub.status.idle": "2024-04-10T14:51:54.359112Z",
     "shell.execute_reply": "2024-04-10T14:51:54.358181Z"
    },
    "papermill": {
     "duration": 0.03689,
     "end_time": "2024-04-10T14:51:54.361533",
     "exception": false,
     "start_time": "2024-04-10T14:51:54.324643",
     "status": "completed"
    },
    "tags": []
   },
   "outputs": [],
   "source": [
    "x = df.drop(\"stroke\",axis=1)\n",
    "y = df.stroke"
   ]
  },
  {
   "cell_type": "code",
   "execution_count": 15,
   "id": "589d1d6b",
   "metadata": {
    "execution": {
     "iopub.execute_input": "2024-04-10T14:51:54.416019Z",
     "iopub.status.busy": "2024-04-10T14:51:54.414548Z",
     "iopub.status.idle": "2024-04-10T14:51:54.425281Z",
     "shell.execute_reply": "2024-04-10T14:51:54.423942Z"
    },
    "papermill": {
     "duration": 0.040708,
     "end_time": "2024-04-10T14:51:54.427958",
     "exception": false,
     "start_time": "2024-04-10T14:51:54.387250",
     "status": "completed"
    },
    "tags": []
   },
   "outputs": [
    {
     "data": {
      "text/plain": [
       "((5109, 19),\n",
       " (5109,),\n",
       " stroke\n",
       " 0    4860\n",
       " 1     249\n",
       " Name: count, dtype: int64)"
      ]
     },
     "execution_count": 15,
     "metadata": {},
     "output_type": "execute_result"
    }
   ],
   "source": [
    "x.shape , y.shape , y.value_counts()"
   ]
  },
  {
   "cell_type": "code",
   "execution_count": 16,
   "id": "c1f7ada8",
   "metadata": {
    "execution": {
     "iopub.execute_input": "2024-04-10T14:51:55.209435Z",
     "iopub.status.busy": "2024-04-10T14:51:55.208429Z",
     "iopub.status.idle": "2024-04-10T14:51:55.214137Z",
     "shell.execute_reply": "2024-04-10T14:51:55.212897Z"
    },
    "papermill": {
     "duration": 0.039633,
     "end_time": "2024-04-10T14:51:55.216897",
     "exception": false,
     "start_time": "2024-04-10T14:51:55.177264",
     "status": "completed"
    },
    "tags": []
   },
   "outputs": [],
   "source": [
    "smote = SMOTE(sampling_strategy=\"minority\")"
   ]
  },
  {
   "cell_type": "code",
   "execution_count": 17,
   "id": "32f7caad",
   "metadata": {
    "execution": {
     "iopub.execute_input": "2024-04-10T14:51:55.270874Z",
     "iopub.status.busy": "2024-04-10T14:51:55.270378Z",
     "iopub.status.idle": "2024-04-10T14:51:55.314806Z",
     "shell.execute_reply": "2024-04-10T14:51:55.312678Z"
    },
    "papermill": {
     "duration": 0.076974,
     "end_time": "2024-04-10T14:51:55.320042",
     "exception": false,
     "start_time": "2024-04-10T14:51:55.243068",
     "status": "completed"
    },
    "tags": []
   },
   "outputs": [],
   "source": [
    "#fiteamos\n",
    "x_smote , y_smote = smote.fit_resample(x,y)                "
   ]
  },
  {
   "cell_type": "code",
   "execution_count": 18,
   "id": "112c87a7",
   "metadata": {
    "execution": {
     "iopub.execute_input": "2024-04-10T14:51:55.428252Z",
     "iopub.status.busy": "2024-04-10T14:51:55.427549Z",
     "iopub.status.idle": "2024-04-10T14:51:55.439758Z",
     "shell.execute_reply": "2024-04-10T14:51:55.438665Z"
    },
    "papermill": {
     "duration": 0.068943,
     "end_time": "2024-04-10T14:51:55.443129",
     "exception": false,
     "start_time": "2024-04-10T14:51:55.374186",
     "status": "completed"
    },
    "tags": []
   },
   "outputs": [
    {
     "data": {
      "text/plain": [
       "stroke\n",
       "1    4860\n",
       "0    4860\n",
       "Name: count, dtype: int64"
      ]
     },
     "execution_count": 18,
     "metadata": {},
     "output_type": "execute_result"
    }
   ],
   "source": [
    "# ahora tenemos el mismo numero de datos para ambas clases\n",
    "y_smote.value_counts()\n"
   ]
  },
  {
   "cell_type": "markdown",
   "id": "ab3e378c",
   "metadata": {},
   "source": [
    "---"
   ]
  },
  {
   "cell_type": "markdown",
   "id": "252f6dfd",
   "metadata": {},
   "source": [
    "## Predicciones\n"
   ]
  },
  {
   "cell_type": "code",
   "execution_count": 19,
   "id": "cae1584b",
   "metadata": {
    "execution": {
     "iopub.execute_input": "2024-04-10T14:51:55.508884Z",
     "iopub.status.busy": "2024-04-10T14:51:55.508020Z",
     "iopub.status.idle": "2024-04-10T14:51:55.523833Z",
     "shell.execute_reply": "2024-04-10T14:51:55.522278Z"
    },
    "papermill": {
     "duration": 0.047439,
     "end_time": "2024-04-10T14:51:55.527065",
     "exception": false,
     "start_time": "2024-04-10T14:51:55.479626",
     "status": "completed"
    },
    "tags": []
   },
   "outputs": [],
   "source": [
    "#separamos en train y test\n",
    "x_train , x_test , y_train , y_test = train_test_split(x_smote,y_smote,test_size=0.2,random_state=42)"
   ]
  },
  {
   "cell_type": "code",
   "execution_count": 20,
   "id": "1284002e",
   "metadata": {
    "execution": {
     "iopub.execute_input": "2024-04-10T14:51:55.583017Z",
     "iopub.status.busy": "2024-04-10T14:51:55.582482Z",
     "iopub.status.idle": "2024-04-10T14:51:55.605487Z",
     "shell.execute_reply": "2024-04-10T14:51:55.604116Z"
    },
    "papermill": {
     "duration": 0.054466,
     "end_time": "2024-04-10T14:51:55.608690",
     "exception": false,
     "start_time": "2024-04-10T14:51:55.554224",
     "status": "completed"
    },
    "tags": []
   },
   "outputs": [],
   "source": [
    "#escalamos los datos\n",
    "scaler=StandardScaler()\n",
    "x_train = scaler.fit_transform(x_train)\n",
    "x_test = scaler.transform(x_test)"
   ]
  },
  {
   "cell_type": "markdown",
   "id": "f43b206c",
   "metadata": {},
   "source": [
    "### Redes Neuronales"
   ]
  },
  {
   "cell_type": "markdown",
   "id": "cbf019da",
   "metadata": {},
   "source": [
    "Probemos el desempeño de una red neuronal de 2 capas, usando ReLu y una funcion de activacion sigmoidea, utilizaremos BCELoss como funcion de pérdida ya que estamos ante un problema de clasificacion binaria"
   ]
  },
  {
   "cell_type": "code",
   "execution_count": 21,
   "id": "e9a42474",
   "metadata": {},
   "outputs": [
    {
     "name": "stdout",
     "output_type": "stream",
     "text": [
      "Epoch [10/1000], Loss: 0.6818, Accuracy: 0.5837\n",
      "Epoch [20/1000], Loss: 0.6290, Accuracy: 0.8086\n",
      "Epoch [30/1000], Loss: 0.5802, Accuracy: 0.8745\n",
      "Epoch [40/1000], Loss: 0.5317, Accuracy: 0.8970\n",
      "Epoch [50/1000], Loss: 0.4826, Accuracy: 0.9061\n",
      "Epoch [60/1000], Loss: 0.4335, Accuracy: 0.9119\n",
      "Epoch [70/1000], Loss: 0.3864, Accuracy: 0.9218\n",
      "Epoch [80/1000], Loss: 0.3433, Accuracy: 0.9307\n",
      "Epoch [90/1000], Loss: 0.3055, Accuracy: 0.9342\n",
      "Epoch [100/1000], Loss: 0.2734, Accuracy: 0.9370\n",
      "Epoch [110/1000], Loss: 0.2469, Accuracy: 0.9398\n",
      "Epoch [120/1000], Loss: 0.2250, Accuracy: 0.9448\n",
      "Epoch [130/1000], Loss: 0.2071, Accuracy: 0.9478\n",
      "Epoch [140/1000], Loss: 0.1924, Accuracy: 0.9488\n",
      "Epoch [150/1000], Loss: 0.1803, Accuracy: 0.9513\n",
      "Epoch [160/1000], Loss: 0.1703, Accuracy: 0.9513\n",
      "Epoch [170/1000], Loss: 0.1620, Accuracy: 0.9523\n",
      "Epoch [180/1000], Loss: 0.1550, Accuracy: 0.9549\n",
      "Epoch [190/1000], Loss: 0.1492, Accuracy: 0.9551\n",
      "Epoch [200/1000], Loss: 0.1442, Accuracy: 0.9555\n",
      "Epoch [210/1000], Loss: 0.1400, Accuracy: 0.9568\n",
      "Epoch [220/1000], Loss: 0.1364, Accuracy: 0.9573\n",
      "Epoch [230/1000], Loss: 0.1333, Accuracy: 0.9579\n",
      "Epoch [240/1000], Loss: 0.1306, Accuracy: 0.9586\n",
      "Epoch [250/1000], Loss: 0.1282, Accuracy: 0.9590\n",
      "Epoch [260/1000], Loss: 0.1261, Accuracy: 0.9588\n",
      "Epoch [270/1000], Loss: 0.1242, Accuracy: 0.9599\n",
      "Epoch [280/1000], Loss: 0.1225, Accuracy: 0.9601\n",
      "Epoch [290/1000], Loss: 0.1210, Accuracy: 0.9599\n",
      "Epoch [300/1000], Loss: 0.1196, Accuracy: 0.9600\n",
      "Epoch [310/1000], Loss: 0.1183, Accuracy: 0.9601\n",
      "Epoch [320/1000], Loss: 0.1172, Accuracy: 0.9601\n",
      "Epoch [330/1000], Loss: 0.1161, Accuracy: 0.9614\n",
      "Epoch [340/1000], Loss: 0.1151, Accuracy: 0.9615\n",
      "Epoch [350/1000], Loss: 0.1142, Accuracy: 0.9615\n",
      "Epoch [360/1000], Loss: 0.1134, Accuracy: 0.9617\n",
      "Epoch [370/1000], Loss: 0.1126, Accuracy: 0.9617\n",
      "Epoch [380/1000], Loss: 0.1119, Accuracy: 0.9615\n",
      "Epoch [390/1000], Loss: 0.1112, Accuracy: 0.9614\n",
      "Epoch [400/1000], Loss: 0.1105, Accuracy: 0.9614\n",
      "Epoch [410/1000], Loss: 0.1099, Accuracy: 0.9614\n",
      "Epoch [420/1000], Loss: 0.1093, Accuracy: 0.9614\n",
      "Epoch [430/1000], Loss: 0.1088, Accuracy: 0.9614\n",
      "Epoch [440/1000], Loss: 0.1082, Accuracy: 0.9615\n",
      "Epoch [450/1000], Loss: 0.1077, Accuracy: 0.9617\n",
      "Epoch [460/1000], Loss: 0.1072, Accuracy: 0.9618\n",
      "Epoch [470/1000], Loss: 0.1067, Accuracy: 0.9622\n",
      "Epoch [480/1000], Loss: 0.1062, Accuracy: 0.9622\n",
      "Epoch [490/1000], Loss: 0.1058, Accuracy: 0.9626\n",
      "Epoch [500/1000], Loss: 0.1054, Accuracy: 0.9626\n",
      "Epoch [510/1000], Loss: 0.1050, Accuracy: 0.9627\n",
      "Epoch [520/1000], Loss: 0.1046, Accuracy: 0.9627\n",
      "Epoch [530/1000], Loss: 0.1042, Accuracy: 0.9630\n",
      "Epoch [540/1000], Loss: 0.1039, Accuracy: 0.9632\n",
      "Epoch [550/1000], Loss: 0.1035, Accuracy: 0.9631\n",
      "Epoch [560/1000], Loss: 0.1032, Accuracy: 0.9630\n",
      "Epoch [570/1000], Loss: 0.1028, Accuracy: 0.9628\n",
      "Epoch [580/1000], Loss: 0.1025, Accuracy: 0.9632\n",
      "Epoch [590/1000], Loss: 0.1022, Accuracy: 0.9633\n",
      "Epoch [600/1000], Loss: 0.1019, Accuracy: 0.9632\n",
      "Epoch [610/1000], Loss: 0.1016, Accuracy: 0.9632\n",
      "Epoch [620/1000], Loss: 0.1013, Accuracy: 0.9633\n",
      "Epoch [630/1000], Loss: 0.1010, Accuracy: 0.9635\n",
      "Epoch [640/1000], Loss: 0.1008, Accuracy: 0.9633\n",
      "Epoch [650/1000], Loss: 0.1005, Accuracy: 0.9633\n",
      "Epoch [660/1000], Loss: 0.1002, Accuracy: 0.9633\n",
      "Epoch [670/1000], Loss: 0.1000, Accuracy: 0.9633\n",
      "Epoch [680/1000], Loss: 0.0997, Accuracy: 0.9636\n",
      "Epoch [690/1000], Loss: 0.0995, Accuracy: 0.9637\n",
      "Epoch [700/1000], Loss: 0.0992, Accuracy: 0.9639\n",
      "Epoch [710/1000], Loss: 0.0990, Accuracy: 0.9639\n",
      "Epoch [720/1000], Loss: 0.0987, Accuracy: 0.9639\n",
      "Epoch [730/1000], Loss: 0.0985, Accuracy: 0.9640\n",
      "Epoch [740/1000], Loss: 0.0983, Accuracy: 0.9640\n",
      "Epoch [750/1000], Loss: 0.0980, Accuracy: 0.9641\n",
      "Epoch [760/1000], Loss: 0.0978, Accuracy: 0.9644\n",
      "Epoch [770/1000], Loss: 0.0976, Accuracy: 0.9644\n",
      "Epoch [780/1000], Loss: 0.0974, Accuracy: 0.9642\n",
      "Epoch [790/1000], Loss: 0.0971, Accuracy: 0.9644\n",
      "Epoch [800/1000], Loss: 0.0969, Accuracy: 0.9644\n",
      "Epoch [810/1000], Loss: 0.0967, Accuracy: 0.9644\n",
      "Epoch [820/1000], Loss: 0.0965, Accuracy: 0.9644\n",
      "Epoch [830/1000], Loss: 0.0962, Accuracy: 0.9644\n",
      "Epoch [840/1000], Loss: 0.0960, Accuracy: 0.9645\n",
      "Epoch [850/1000], Loss: 0.0958, Accuracy: 0.9645\n",
      "Epoch [860/1000], Loss: 0.0956, Accuracy: 0.9645\n",
      "Epoch [870/1000], Loss: 0.0954, Accuracy: 0.9645\n",
      "Epoch [880/1000], Loss: 0.0952, Accuracy: 0.9645\n",
      "Epoch [890/1000], Loss: 0.0950, Accuracy: 0.9645\n",
      "Epoch [900/1000], Loss: 0.0948, Accuracy: 0.9645\n",
      "Epoch [910/1000], Loss: 0.0946, Accuracy: 0.9645\n",
      "Epoch [920/1000], Loss: 0.0944, Accuracy: 0.9645\n",
      "Epoch [930/1000], Loss: 0.0942, Accuracy: 0.9646\n",
      "Epoch [940/1000], Loss: 0.0940, Accuracy: 0.9645\n",
      "Epoch [950/1000], Loss: 0.0939, Accuracy: 0.9645\n",
      "Epoch [960/1000], Loss: 0.0937, Accuracy: 0.9646\n",
      "Epoch [970/1000], Loss: 0.0935, Accuracy: 0.9646\n",
      "Epoch [980/1000], Loss: 0.0933, Accuracy: 0.9646\n",
      "Epoch [990/1000], Loss: 0.0931, Accuracy: 0.9645\n",
      "Epoch [1000/1000], Loss: 0.0929, Accuracy: 0.9646\n"
     ]
    }
   ],
   "source": [
    "import torch\n",
    "import torch.nn as nn\n",
    "import torch.optim as optim\n",
    "from sklearn.metrics import accuracy_score, confusion_matrix, ConfusionMatrixDisplay\n",
    "import matplotlib.pyplot as plt\n",
    "\n",
    "# definimos el modelo de la red neuronal\n",
    "class NeuralNetwork(nn.Module):\n",
    "    def __init__(self, input_size, hidden_size, output_size):\n",
    "        super(NeuralNetwork, self).__init__()\n",
    "        self.fc1 = nn.Linear(input_size, hidden_size)\n",
    "        self.relu = nn.ReLU()\n",
    "        self.fc2 = nn.Linear(hidden_size, output_size)\n",
    "        self.sigmoid = nn.Sigmoid()\n",
    "\n",
    "    def forward(self, x):\n",
    "        out = self.fc1(x)\n",
    "        out = self.relu(out)\n",
    "        out = self.fc2(out)\n",
    "        out = self.sigmoid(out)\n",
    "        return out\n",
    "\n",
    "# Definimos los hiperparámetros\n",
    "input_size = x_train.shape[1] # Number of features\n",
    "hidden_size = 64\n",
    "output_size = 1\n",
    "learning_rate = 0.001\n",
    "num_epochs = 1000\n",
    "\n",
    "# creamos el modelo\n",
    "model = NeuralNetwork(input_size, hidden_size, output_size)\n",
    "\n",
    "# funcion de perdida y optimizador\n",
    "criterion = nn.BCELoss()\n",
    "optimizer = optim.Adam(model.parameters(), lr=learning_rate)\n",
    "\n",
    "# tensores\n",
    "x_train_tensor = torch.tensor(x_train, dtype=torch.float32)\n",
    "y_train_tensor = torch.tensor(y_train.values.reshape(-1, 1), dtype=torch.float32)\n",
    "x_test_tensor = torch.tensor(x_test, dtype=torch.float32)\n",
    "y_test_tensor = torch.tensor(y_test.values.reshape(-1, 1), dtype=torch.float32)\n",
    "\n",
    "# entrenamiento\n",
    "for epoch in range(num_epochs):\n",
    "    # Forward pass\n",
    "    outputs = model(x_train_tensor)\n",
    "    loss = criterion(outputs, y_train_tensor)\n",
    "\n",
    "    # backpropagation y optimizacion\n",
    "    optimizer.zero_grad()\n",
    "    loss.backward()\n",
    "    optimizer.step()\n",
    "\n",
    "    # mostrar el progreso de perdida y accuracy cada 10 epochs\n",
    "    if (epoch+1) % 10 == 0:\n",
    "        outputs = (outputs >= 0.5).float()\n",
    "        accuracy = accuracy_score(y_train_tensor, outputs)\n",
    "        print(f'Epoch [{epoch+1}/{num_epochs}], Loss: {loss.item():.4f}, Accuracy: {accuracy:.4f}')"
   ]
  },
  {
   "cell_type": "markdown",
   "id": "2ead9f5c",
   "metadata": {},
   "source": [
    "Exportar modelo a archivo json"
   ]
  },
  {
   "cell_type": "code",
   "execution_count": null,
   "id": "ce277873",
   "metadata": {},
   "outputs": [
    {
     "name": "stdout",
     "output_type": "stream",
     "text": [
      "Modelo guardado en trained_model.json\n"
     ]
    }
   ],
   "source": [
    "import json\n",
    "# Guardar el modelo en formato JSON\n",
    "def save_model_to_json(model, file_path):\n",
    "    model_dict = {\n",
    "        \"architecture\": {\n",
    "            \"input_size\": input_size,\n",
    "            \"hidden_size\": hidden_size,\n",
    "            \"output_size\": output_size,\n",
    "        },\n",
    "        \"state_dict\": {k: v.tolist() for k, v in model.state_dict().items()}\n",
    "    }\n",
    "    with open(file_path, \"w\") as json_file:\n",
    "        json.dump(model_dict, json_file)\n",
    "    print(f\"Modelo guardado en {file_path}\")\n",
    "\n",
    "save_model_to_json(model, \"rnn_model.json\")"
   ]
  },
  {
   "cell_type": "markdown",
   "id": "033edc63",
   "metadata": {},
   "source": [
    "Exportamos los datasets truncando los digitos decimales para evitar problemas con los hashes"
   ]
  },
  {
   "cell_type": "code",
   "execution_count": null,
   "id": "276d1c8c",
   "metadata": {},
   "outputs": [],
   "source": [
    "ds_xtrain=pd.DataFrame(x_train)\n",
    "ds_xtest=pd.DataFrame(x_test)\n",
    "\n",
    "ds_xtrain.columns = x.columns\n",
    "ds_xtest.columns = x.columns\n",
    "\n",
    "# Aplicar la transformación para limitar a 110 decimales\n",
    "stroke_data_test=ds_xtest.applymap(lambda x: f\"{x:.10f}\" if isinstance(x, (int, float)) else x)\n",
    "\n",
    "stroke_data_train=ds_xtrain.applymap(lambda x: f\"{x:.10f}\" if isinstance(x, (int, float)) else x)\n",
    "\n",
    "\n",
    "stroke_data_train.to_csv('stroke_data_train.csv',index=False)\n",
    "stroke_data_test.to_csv('stroke_data.csv',index=False)"
   ]
  },
  {
   "cell_type": "code",
   "execution_count": 32,
   "id": "cc6a12b3",
   "metadata": {},
   "outputs": [
    {
     "data": {
      "text/plain": [
       "array([0., 0., 0., ..., 0., 0., 0.], dtype=float32)"
      ]
     },
     "execution_count": 32,
     "metadata": {},
     "output_type": "execute_result"
    }
   ],
   "source": [
    "# Evaluacion en el conjunto de prueba\n",
    "model.eval()\n",
    "with torch.no_grad():\n",
    "    test_outputs = model(torch.tensor(ds_xtest.values, dtype=torch.float32))\n",
    "    test_outputs = (test_outputs >= 0.5).float()\n",
    "\n",
    "test_outputs = test_outputs.numpy().flatten()\n",
    "test_outputs"
   ]
  },
  {
   "cell_type": "code",
   "execution_count": 36,
   "id": "bd6daa8c",
   "metadata": {},
   "outputs": [
    {
     "name": "stdout",
     "output_type": "stream",
     "text": [
      "Test Accuracy: 0.9604\n"
     ]
    },
    {
     "data": {
      "image/png": "[encoded data removed]",
      "text/plain": [
       "<Figure size 640x480 with 2 Axes>"
      ]
     },
     "metadata": {},
     "output_type": "display_data"
    }
   ],
   "source": [
    "# Evaluacion en el conjunto de prueba\n",
    "model.eval()\n",
    "with torch.no_grad():\n",
    "    test_outputs = model(x_test_tensor)\n",
    "\n",
    "test_outputs = (test_outputs >= 0.5).float()\n",
    "\n",
    "test_outputs = test_outputs.numpy().flatten()\n",
    "test_accuracy = accuracy_score(y_test_tensor, test_outputs)\n",
    "print(f'Test Accuracy: {test_accuracy:.4f}')\n",
    "\n",
    "    # Confusion Matrix\n",
    "cm = confusion_matrix(y_test_tensor, test_outputs)\n",
    "disp = ConfusionMatrixDisplay(confusion_matrix=cm)\n",
    "disp.plot()\n",
    "plt.title('Confusion Matrix')\n",
    "plt.show()"
   ]
  },
  {
   "cell_type": "code",
   "execution_count": 39,
   "id": "1e380a99",
   "metadata": {},
   "outputs": [
    {
     "name": "stdout",
     "output_type": "stream",
     "text": [
      "Métricas para redes neuronales:\n",
      "              precision    recall  f1-score   support\n",
      "\n",
      "         0.0       0.93      0.99      0.96       976\n",
      "         1.0       0.99      0.93      0.96       968\n",
      "\n",
      "    accuracy                           0.96      1944\n",
      "   macro avg       0.96      0.96      0.96      1944\n",
      "weighted avg       0.96      0.96      0.96      1944\n",
      "\n",
      "Accuracy: 0.96\n",
      "Precision: 0.99\n",
      "Recall: 0.93\n",
      "F1 Score: 0.96\n",
      "Mean Squared Error: 0.04\n"
     ]
    }
   ],
   "source": [
    "# Classification Report\n",
    "report = classification_report(y_test_tensor, test_outputs)\n",
    "print('Métricas para redes neuronales:')\n",
    "print(report)\n",
    "\n",
    "# Calculamos las métricas de evaluación\n",
    "accuracy = accuracy_score(y_test_tensor, test_outputs)\n",
    "precision = precision_score(y_test_tensor,test_outputs, average='binary')  # usamos binary porque es un problema de clasificación binaria\n",
    "recall = recall_score(y_test_tensor,test_outputs, average='binary')\n",
    "f1 = f1_score(y_test_tensor, test_outputs, average='binary')\n",
    "mse = mean_squared_error(y_test_tensor, test_outputs)\n",
    "print(f\"Accuracy: {accuracy:.2f}\")\n",
    "print(f\"Precision: {precision:.2f}\")\n",
    "print(f\"Recall: {recall:.2f}\")\n",
    "print(f\"F1 Score: {f1:.2f}\")\n",
    "print(f\"Mean Squared Error: {mse:.2f}\")"
   ]
  }
 ],
 "metadata": {
  "kaggle": {
   "accelerator": "none",
   "dataSources": [
    {
     "datasetId": 1120859,
     "sourceId": 1882037,
     "sourceType": "datasetVersion"
    }
   ],
   "dockerImageVersionId": 30558,
   "isGpuEnabled": false,
   "isInternetEnabled": true,
   "language": "python",
   "sourceType": "notebook"
  },
  "kernelspec": {
   "display_name": "ambiente1",
   "language": "python",
   "name": "python3"
  },
  "language_info": {
   "codemirror_mode": {
    "name": "ipython",
    "version": 3
   },
   "file_extension": ".py",
   "mimetype": "text/x-python",
   "name": "python",
   "nbconvert_exporter": "python",
   "pygments_lexer": "ipython3",
   "version": "3.9.20"
  },
  "papermill": {
   "default_parameters": {},
   "duration": 64.226148,
   "end_time": "2024-04-10T14:52:44.265473",
   "environment_variables": {},
   "exception": null,
   "input_path": "__notebook__.ipynb",
   "output_path": "__notebook__.ipynb",
   "parameters": {},
   "start_time": "2024-04-10T14:51:40.039325",
   "version": "2.4.0"
  }
 },
 "nbformat": 4,
 "nbformat_minor": 5
}
